{
  "nbformat": 4,
  "nbformat_minor": 0,
  "metadata": {
    "colab": {
      "provenance": []
    },
    "kernelspec": {
      "name": "python3",
      "display_name": "Python 3"
    },
    "language_info": {
      "name": "python"
    }
  },
  "cells": [
    {
      "cell_type": "code",
      "source": [
        "!apt-get -qq install -y graphviz && pip install pydot\n",
        "import pydot\n",
        "# Install required libraries\n",
        "!pip install requests pandas numpy tqdm pyod matplotlib seaborn openpyxl"
      ],
      "metadata": {
        "colab": {
          "base_uri": "https://localhost:8080/"
        },
        "id": "ZUN9VcolROcs",
        "outputId": "9cab8fc6-2e84-4efe-82fa-93b300c6ad61"
      },
      "execution_count": null,
      "outputs": [
        {
          "output_type": "stream",
          "name": "stdout",
          "text": [
            "Requirement already satisfied: pydot in /usr/local/lib/python3.10/dist-packages (3.0.2)\n",
            "Requirement already satisfied: pyparsing>=3.0.9 in /usr/local/lib/python3.10/dist-packages (from pydot) (3.1.4)\n",
            "Requirement already satisfied: requests in /usr/local/lib/python3.10/dist-packages (2.32.3)\n",
            "Requirement already satisfied: pandas in /usr/local/lib/python3.10/dist-packages (2.2.2)\n",
            "Requirement already satisfied: numpy in /usr/local/lib/python3.10/dist-packages (1.26.4)\n",
            "Requirement already satisfied: tqdm in /usr/local/lib/python3.10/dist-packages (4.66.5)\n",
            "Collecting pyod\n",
            "  Downloading pyod-2.0.2.tar.gz (165 kB)\n",
            "\u001b[2K     \u001b[90m━━━━━━━━━━━━━━━━━━━━━━━━━━━━━━━━━━━━━━━━\u001b[0m \u001b[32m165.8/165.8 kB\u001b[0m \u001b[31m3.7 MB/s\u001b[0m eta \u001b[36m0:00:00\u001b[0m\n",
            "\u001b[?25h  Preparing metadata (setup.py) ... \u001b[?25l\u001b[?25hdone\n",
            "Requirement already satisfied: matplotlib in /usr/local/lib/python3.10/dist-packages (3.7.1)\n",
            "Requirement already satisfied: seaborn in /usr/local/lib/python3.10/dist-packages (0.13.2)\n",
            "Requirement already satisfied: openpyxl in /usr/local/lib/python3.10/dist-packages (3.1.5)\n",
            "Requirement already satisfied: charset-normalizer<4,>=2 in /usr/local/lib/python3.10/dist-packages (from requests) (3.4.0)\n",
            "Requirement already satisfied: idna<4,>=2.5 in /usr/local/lib/python3.10/dist-packages (from requests) (3.10)\n",
            "Requirement already satisfied: urllib3<3,>=1.21.1 in /usr/local/lib/python3.10/dist-packages (from requests) (2.2.3)\n",
            "Requirement already satisfied: certifi>=2017.4.17 in /usr/local/lib/python3.10/dist-packages (from requests) (2024.8.30)\n",
            "Requirement already satisfied: python-dateutil>=2.8.2 in /usr/local/lib/python3.10/dist-packages (from pandas) (2.8.2)\n",
            "Requirement already satisfied: pytz>=2020.1 in /usr/local/lib/python3.10/dist-packages (from pandas) (2024.2)\n",
            "Requirement already satisfied: tzdata>=2022.7 in /usr/local/lib/python3.10/dist-packages (from pandas) (2024.2)\n",
            "Requirement already satisfied: joblib in /usr/local/lib/python3.10/dist-packages (from pyod) (1.4.2)\n",
            "Requirement already satisfied: numba>=0.51 in /usr/local/lib/python3.10/dist-packages (from pyod) (0.60.0)\n",
            "Requirement already satisfied: scipy>=1.5.1 in /usr/local/lib/python3.10/dist-packages (from pyod) (1.13.1)\n",
            "Requirement already satisfied: scikit-learn>=0.22.0 in /usr/local/lib/python3.10/dist-packages (from pyod) (1.5.2)\n",
            "Requirement already satisfied: contourpy>=1.0.1 in /usr/local/lib/python3.10/dist-packages (from matplotlib) (1.3.0)\n",
            "Requirement already satisfied: cycler>=0.10 in /usr/local/lib/python3.10/dist-packages (from matplotlib) (0.12.1)\n",
            "Requirement already satisfied: fonttools>=4.22.0 in /usr/local/lib/python3.10/dist-packages (from matplotlib) (4.54.1)\n",
            "Requirement already satisfied: kiwisolver>=1.0.1 in /usr/local/lib/python3.10/dist-packages (from matplotlib) (1.4.7)\n",
            "Requirement already satisfied: packaging>=20.0 in /usr/local/lib/python3.10/dist-packages (from matplotlib) (24.1)\n",
            "Requirement already satisfied: pillow>=6.2.0 in /usr/local/lib/python3.10/dist-packages (from matplotlib) (10.4.0)\n",
            "Requirement already satisfied: pyparsing>=2.3.1 in /usr/local/lib/python3.10/dist-packages (from matplotlib) (3.1.4)\n",
            "Requirement already satisfied: et-xmlfile in /usr/local/lib/python3.10/dist-packages (from openpyxl) (1.1.0)\n",
            "Requirement already satisfied: llvmlite<0.44,>=0.43.0dev0 in /usr/local/lib/python3.10/dist-packages (from numba>=0.51->pyod) (0.43.0)\n",
            "Requirement already satisfied: six>=1.5 in /usr/local/lib/python3.10/dist-packages (from python-dateutil>=2.8.2->pandas) (1.16.0)\n",
            "Requirement already satisfied: threadpoolctl>=3.1.0 in /usr/local/lib/python3.10/dist-packages (from scikit-learn>=0.22.0->pyod) (3.5.0)\n",
            "Building wheels for collected packages: pyod\n",
            "  Building wheel for pyod (setup.py) ... \u001b[?25l\u001b[?25hdone\n",
            "  Created wheel for pyod: filename=pyod-2.0.2-py3-none-any.whl size=198469 sha256=0374488bceb944732edf0996569be68652ccbff811e71d58d0996e49a812c0aa\n",
            "  Stored in directory: /root/.cache/pip/wheels/77/c2/20/34d1f15b41b701ba69f42a32304825810d680754d509f91391\n",
            "Successfully built pyod\n",
            "Installing collected packages: pyod\n",
            "Successfully installed pyod-2.0.2\n"
          ]
        }
      ]
    },
    {
      "cell_type": "code",
      "source": [
        "import requests\n",
        "import pandas as pd\n",
        "import numpy as np\n",
        "from tqdm import tqdm\n",
        "from pyod.models.knn import KNN\n",
        "from pyod.models.iforest import IForest\n",
        "from pyod.models.abod import ABOD\n",
        "import matplotlib.pyplot as plt\n",
        "import seaborn as sns\n",
        "\n",
        "# курс обмена\n",
        "currency_dict = {\n",
        "    'EUR': 98.87,\n",
        "    'USD': 89.20\n",
        "}\n",
        "\n",
        "# функция для выборки с url\n",
        "def fetch_jobs(url, total_requests):\n",
        "    jobs = []\n",
        "    for page in range(total_requests):  # 2000 запросов\n",
        "        response = requests.get(f\"{url}&page={page}\")  # включает параметр пагинации\n",
        "        if response.status_code == 200:\n",
        "            jobs.extend(response.json()['items'])\n",
        "        else:\n",
        "            print(f\"Error fetching data from {url}: {response.status_code}\")\n",
        "\n",
        "    return jobs"
      ],
      "metadata": {
        "id": "pfE9BUyZB3jn"
      },
      "execution_count": null,
      "outputs": []
    },
    {
      "cell_type": "code",
      "execution_count": null,
      "metadata": {
        "colab": {
          "base_uri": "https://localhost:8080/"
        },
        "id": "N4Mnv-8yQaff",
        "outputId": "ec3086b1-1921-4677-ddd8-41071f7058f5"
      },
      "outputs": [
        {
          "output_type": "stream",
          "name": "stderr",
          "text": [
            "100%|██████████| 2000/2000 [00:00<00:00, 173050.19it/s]"
          ]
        },
        {
          "output_type": "stream",
          "name": "stdout",
          "text": [
            "             id                                               name area.name  \\\n",
            "0     106664286                        Junior Frontend Разработчик    Бишкек   \n",
            "1     108453823                           Python Backend Developer    Астана   \n",
            "2     108742825       Frontend разработчик (Phoenix IT Consulting)   Ташкент   \n",
            "3     107759001                                 Стажер-разработчик    Алматы   \n",
            "4     108687926                       JavaScript/React разработчик    Алматы   \n",
            "...         ...                                                ...       ...   \n",
            "1995  105796302                              Программист-стажер 1С      Тула   \n",
            "1996  107688380                      Исполнительный директор (CEO)     Пермь   \n",
            "1997  107844651                 Фронтент разработчик, верстальшик.   Ташкент   \n",
            "1998  107853687  Администратор сайта / Контент менеджер/ маркет...    Москва   \n",
            "1999  108032263                                 Sales Professional    Москва   \n",
            "\n",
            "         salary snippet.requirements     experience.name  \n",
            "0       40000.0                       От 1 года до 3 лет  \n",
            "1      225000.0                                Нет опыта  \n",
            "2     4350000.0                       От 1 года до 3 лет  \n",
            "3       75000.0                                Нет опыта  \n",
            "4      348000.0                                Нет опыта  \n",
            "...         ...                  ...                 ...  \n",
            "1995    34800.0                                Нет опыта  \n",
            "1996   350000.0                            От 3 до 6 лет  \n",
            "1997  4350000.0                       От 1 года до 3 лет  \n",
            "1998    80000.0                       От 1 года до 3 лет  \n",
            "1999   232812.0                              Более 6 лет  \n",
            "\n",
            "[2000 rows x 6 columns]\n"
          ]
        },
        {
          "output_type": "stream",
          "name": "stderr",
          "text": [
            "\n"
          ]
        }
      ],
      "source": [
        "# сбор информации по двум типам вакансий\n",
        "url_developer = 'https://api.hh.ru/vacancies?text=разработчик&only_with_salary=true&per_page=100'\n",
        "url_python_developer = 'https://api.hh.ru/vacancies?text=разработчик_на_питоне&only_with_salary=true&per_page=100'\n",
        "\n",
        "# total_requests - запрос на 2000 вакансий (20 страниц по 100 вакансий)\n",
        "total_requests = 20\n",
        "\n",
        "jobs = []\n",
        "jobs.extend(fetch_jobs(url_developer, total_requests))\n",
        "jobs.extend(fetch_jobs(url_python_developer, total_requests))\n",
        "\n",
        "# вывод информации о зарплатах\n",
        "def extract_salary(job):\n",
        "    salary = job.get('salary', {})\n",
        "    from_salary = salary.get('from', 0)\n",
        "    to_salary = salary.get('to', 0)\n",
        "    currency = salary.get('currency', 'RUR')\n",
        "\n",
        "    if from_salary and to_salary:\n",
        "        avg_salary = (from_salary + to_salary) / 2\n",
        "    elif from_salary:\n",
        "        avg_salary = from_salary\n",
        "    elif to_salary:\n",
        "        avg_salary = to_salary\n",
        "    else:\n",
        "        avg_salary = 0\n",
        "\n",
        "    # вычет налогов\n",
        "    if salary.get('gross', False):\n",
        "        avg_salary *= 0.87\n",
        "\n",
        "    # конвертация в рубли\n",
        "    if currency != 'RUR' and currency in currency_dict:\n",
        "        avg_salary *= currency_dict[currency]\n",
        "\n",
        "    return avg_salary\n",
        "\n",
        "# Обработка данных\n",
        "data = []\n",
        "for job in tqdm(jobs):\n",
        "    job_data = {\n",
        "        'id': job.get('id'),\n",
        "        'name': job.get('name'),\n",
        "        'area.name': job.get('area', {}).get('name'),\n",
        "        'salary': extract_salary(job),\n",
        "        'snippet.requirements': job.get('snippet', {}).get('requirements', ''),\n",
        "        'experience.name': job.get('experience', {}).get('name', '')\n",
        "    }\n",
        "    data.append(job_data)\n",
        "\n",
        "df = pd.DataFrame(data)\n",
        "print(df)"
      ]
    },
    {
      "cell_type": "code",
      "source": [
        "# Визуализация зарплат\n",
        "plt.figure(figsize=(12, 6))\n",
        "plt.subplot(1, 2, 1)\n",
        "sns.histplot(df['salary'], bins=30, kde=True)\n",
        "plt.title('Гистограмма зарплат для всех вакансий')"
      ],
      "metadata": {
        "colab": {
          "base_uri": "https://localhost:8080/",
          "height": 581
        },
        "id": "_PHvT2klDzO8",
        "outputId": "18533f16-f32a-4e9d-9258-b29de12d0f48"
      },
      "execution_count": null,
      "outputs": [
        {
          "output_type": "execute_result",
          "data": {
            "text/plain": [
              "Text(0.5, 1.0, 'Гистограмма зарплат для всех вакансий')"
            ]
          },
          "metadata": {},
          "execution_count": 8
        },
        {
          "output_type": "display_data",
          "data": {
            "text/plain": [
              "<Figure size 1200x600 with 1 Axes>"
            ],
            "image/png": "[encoded data removed]"
          },
          "metadata": {}
        }
      ]
    },
    {
      "cell_type": "code",
      "source": [
        "plt.subplot(1, 2, 2)\n",
        "sns.histplot(df[df['name'].str.contains(\"разработчик\", case=False)]['salary'], bins=30, kde=True, color='orange', label='Python разработчики')\n",
        "sns.histplot(df[~df['name'].str.contains(\"разработчик на питон\", case=False)]['salary'], bins=30, kde=True, color='blue', label='Другие разработчики')\n",
        "plt.title('Сравнение зарплат разработчиков на Python и других')\n",
        "plt.legend()\n",
        "plt.show()"
      ],
      "metadata": {
        "colab": {
          "base_uri": "https://localhost:8080/",
          "height": 472
        },
        "id": "AjRwOBEqFH3j",
        "outputId": "c4c6fe0d-9195-4d80-e695-bd1b0f34bd44"
      },
      "execution_count": null,
      "outputs": [
        {
          "output_type": "display_data",
          "data": {
            "text/plain": [
              "<Figure size 640x480 with 1 Axes>"
            ],
            "image/png": "[encoded data removed]"
          },
          "metadata": {}
        }
      ]
    },
    {
      "cell_type": "code",
      "source": [
        "# создание и очистка колонки с зарплатами\n",
        "df['clean_sal'] = df['salary']\n",
        "\n",
        "# Detect anomalies using PyOD\n",
        "models = [KNN(), IForest(), ABOD()]\n",
        "for model in models:\n",
        "    model.fit(df[['clean_sal']])\n",
        "    df[f'anomaly_{model.__class__.__name__}'] = model.labels_\n",
        "\n",
        "# Выборка для окончательного определения аномалий\n",
        "df['anomaly'] = df[[f'anomaly_{model.__class__.__name__}' for model in models]].sum(axis=1)\n",
        "df['anomaly'] = np.where(df['anomaly'] >= 2, 1, 0)  # Определение аномалий, основанное на выборке"
      ],
      "metadata": {
        "id": "7dt8uHMHUTij",
        "colab": {
          "base_uri": "https://localhost:8080/"
        },
        "outputId": "e1aca6fd-633b-4cd9-b47f-ad334ac365b9"
      },
      "execution_count": null,
      "outputs": [
        {
          "output_type": "stream",
          "name": "stderr",
          "text": [
            "/usr/local/lib/python3.10/dist-packages/numpy/core/fromnumeric.py:3787: RuntimeWarning: Degrees of freedom <= 0 for slice\n",
            "  return _methods._var(a, axis=axis, dtype=dtype, out=out, ddof=ddof,\n",
            "/usr/local/lib/python3.10/dist-packages/numpy/core/_methods.py:163: RuntimeWarning: invalid value encountered in divide\n",
            "  arrmean = um.true_divide(arrmean, div, out=arrmean,\n",
            "/usr/local/lib/python3.10/dist-packages/numpy/core/_methods.py:198: RuntimeWarning: invalid value encountered in scalar divide\n",
            "  ret = ret.dtype.type(ret / rcount)\n",
            "/usr/local/lib/python3.10/dist-packages/numpy/core/fromnumeric.py:3787: RuntimeWarning: Degrees of freedom <= 0 for slice\n",
            "  return _methods._var(a, axis=axis, dtype=dtype, out=out, ddof=ddof,\n",
            "/usr/local/lib/python3.10/dist-packages/numpy/core/_methods.py:163: RuntimeWarning: invalid value encountered in divide\n",
            "  arrmean = um.true_divide(arrmean, div, out=arrmean,\n",
            "/usr/local/lib/python3.10/dist-packages/numpy/core/_methods.py:198: RuntimeWarning: invalid value encountered in scalar divide\n",
            "  ret = ret.dtype.type(ret / rcount)\n"
          ]
        }
      ]
    },
    {
      "cell_type": "code",
      "source": [
        "# Визуализация аномалий в boxplot\n",
        "plt.figure(figsize=(10, 5))\n",
        "sns.boxplot(x=df['clean_sal'])\n",
        "plt.title('Boxplot of Clean Salary')\n",
        "plt.show()"
      ],
      "metadata": {
        "colab": {
          "base_uri": "https://localhost:8080/",
          "height": 487
        },
        "id": "XGpCBdG_UwjI",
        "outputId": "0d7e302e-8cc7-4b45-f210-ab790688c03b"
      },
      "execution_count": null,
      "outputs": [
        {
          "output_type": "display_data",
          "data": {
            "text/plain": [
              "<Figure size 1000x500 with 1 Axes>"
            ],
            "image/png": "[encoded data removed]"
          },
          "metadata": {}
        }
      ]
    },
    {
      "cell_type": "code",
      "source": [
        "# Generate explanations based on conditions\n",
        "def generate_explanations(row):\n",
        "    if row['anomaly'] == 1:\n",
        "        return \"Обнаружена аномалия по диапазону зарплат.\"\n",
        "    else:\n",
        "        return \"Нормальный диапазон зарплат.\"\n",
        "\n",
        "df['explanation'] = df.apply(generate_explanations, axis=1)\n",
        "print(df)"
      ],
      "metadata": {
        "id": "IT7BLC0oU6mI",
        "colab": {
          "base_uri": "https://localhost:8080/"
        },
        "outputId": "0ad52f92-84d4-4a8e-f54e-b10daa62a92f"
      },
      "execution_count": null,
      "outputs": [
        {
          "output_type": "stream",
          "name": "stdout",
          "text": [
            "             id                                               name area.name  \\\n",
            "0     106664286                        Junior Frontend Разработчик    Бишкек   \n",
            "1     108453823                           Python Backend Developer    Астана   \n",
            "2     108742825       Frontend разработчик (Phoenix IT Consulting)   Ташкент   \n",
            "3     107759001                                 Стажер-разработчик    Алматы   \n",
            "4     108687926                       JavaScript/React разработчик    Алматы   \n",
            "...         ...                                                ...       ...   \n",
            "1995  105796302                              Программист-стажер 1С      Тула   \n",
            "1996  107688380                      Исполнительный директор (CEO)     Пермь   \n",
            "1997  107844651                 Фронтент разработчик, верстальшик.   Ташкент   \n",
            "1998  107853687  Администратор сайта / Контент менеджер/ маркет...    Москва   \n",
            "1999  108032263                                 Sales Professional    Москва   \n",
            "\n",
            "         salary snippet.requirements     experience.name  clean_sal  \\\n",
            "0       40000.0                       От 1 года до 3 лет    40000.0   \n",
            "1      225000.0                                Нет опыта   225000.0   \n",
            "2     4350000.0                       От 1 года до 3 лет  4350000.0   \n",
            "3       75000.0                                Нет опыта    75000.0   \n",
            "4      348000.0                                Нет опыта   348000.0   \n",
            "...         ...                  ...                 ...        ...   \n",
            "1995    34800.0                                Нет опыта    34800.0   \n",
            "1996   350000.0                            От 3 до 6 лет   350000.0   \n",
            "1997  4350000.0                       От 1 года до 3 лет  4350000.0   \n",
            "1998    80000.0                       От 1 года до 3 лет    80000.0   \n",
            "1999   232812.0                              Более 6 лет   232812.0   \n",
            "\n",
            "      anomaly_KNN  anomaly_IForest  anomaly_ABOD  anomaly  \\\n",
            "0               0                0             0        0   \n",
            "1               0                0             0        0   \n",
            "2               1                1             0        1   \n",
            "3               0                0             0        0   \n",
            "4               0                1             0        0   \n",
            "...           ...              ...           ...      ...   \n",
            "1995            0                0             0        0   \n",
            "1996            0                0             0        0   \n",
            "1997            1                1             0        1   \n",
            "1998            0                0             0        0   \n",
            "1999            0                0             0        0   \n",
            "\n",
            "                                    explanation  \n",
            "0                  Нормальный диапазон зарплат.  \n",
            "1                  Нормальный диапазон зарплат.  \n",
            "2     Обнаружена аномалия по диапазону зарплат.  \n",
            "3                  Нормальный диапазон зарплат.  \n",
            "4                  Нормальный диапазон зарплат.  \n",
            "...                                         ...  \n",
            "1995               Нормальный диапазон зарплат.  \n",
            "1996               Нормальный диапазон зарплат.  \n",
            "1997  Обнаружена аномалия по диапазону зарплат.  \n",
            "1998               Нормальный диапазон зарплат.  \n",
            "1999               Нормальный диапазон зарплат.  \n",
            "\n",
            "[2000 rows x 12 columns]\n"
          ]
        }
      ]
    },
    {
      "cell_type": "code",
      "source": [
        "# Save to Excel\n",
        "output_file = 'job_vacancies_with_anomalies.xlsx'\n",
        "df.to_excel(output_file, index=False)\n",
        "\n",
        "# print(f'Results saved to {output_file}')"
      ],
      "metadata": {
        "id": "dxk6D23gU9Fv"
      },
      "execution_count": null,
      "outputs": []
    },
    {
      "cell_type": "code",
      "source": [
        "import zipfile\n",
        "\n",
        "# Создание ZIP-архива\n",
        "with zipfile.ZipFile('job_vacancies.zip', 'w') as zipf:\n",
        "    zipf.write(output_file)\n",
        "\n",
        "print('Создан ZIP-архив job_vacancies.zip')\n",
        "\n",
        "# Загрузить ZIP-архив\n",
        "#ZipFile.download('job_vacancies.zip')"
      ],
      "metadata": {
        "colab": {
          "base_uri": "https://localhost:8080/"
        },
        "id": "daapKC7MWShR",
        "outputId": "e24fa04d-1285-40ac-e4a0-e654da20d677"
      },
      "execution_count": null,
      "outputs": [
        {
          "output_type": "stream",
          "name": "stdout",
          "text": [
            "Создан ZIP-архив job_vacancies.zip\n"
          ]
        }
      ]
    }
  ]
}